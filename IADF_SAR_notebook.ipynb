{
  "cells": [
    {
      "cell_type": "markdown",
      "metadata": {
        "id": "view-in-github",
        "colab_type": "text"
      },
      "source": [
        "<a href=\"https://colab.research.google.com/github/sirbastiano/BBlocks/blob/main/IADF_SAR_notebook.ipynb\" target=\"_parent\"><img src=\"https://colab.research.google.com/assets/colab-badge.svg\" alt=\"Open In Colab\"/></a>"
      ]
    },
    {
      "cell_type": "markdown",
      "metadata": {
        "id": "jQX73XucBdzo"
      },
      "source": [
        "**[Download the notebook](https://gitlab.telecom-paris.fr/ring/iadf-2023-sar-processing/-/raw/main/IADF_SAR_notebook.ipynb?inline=false) and then import it under Google Colab**\n",
        "\n",
        "<a href=\"https://colab.research.google.com/\" target=\"_parent\"><img src=\"https://colab.research.google.com/assets/colab-badge.svg\" alt=\"Open In Colab\"/></a>"
      ]
    },
    {
      "cell_type": "markdown",
      "metadata": {
        "id": "9YkU9qf90uEv"
      },
      "source": [
        "# IADF School 2023: Computer Vision for Earth Observation\n",
        "# Practical session\n",
        "## Synthetic Aperture Radar Data Analysis\n",
        "### Florence Tupin, Emanuele Dalsasso\n",
        "\n",
        "In this practical work you will be guided through a series of tools aiming at visualising and processing SAR data. First, you will implement a simple visualization tool do display the phase and amplitude information of a SAR image. Then, a statistical analysis to verify Goodman's model will be conducted. Finally, some speckle reduction algorithms will be implemented and the results analysed from both a qualitative and quantitative perspective.\n",
        "\n",
        "Some of the tools that we will use can be found here:\n",
        "https://gitlab.telecom-paris.fr/ring/"
      ]
    },
    {
      "cell_type": "markdown",
      "metadata": {
        "id": "LHf-E7N91eHo"
      },
      "source": [
        "## 0. Download data and install needed libraries"
      ]
    },
    {
      "cell_type": "code",
      "execution_count": 1,
      "metadata": {
        "id": "0d3uLTn-sq8N",
        "colab": {
          "base_uri": "https://localhost:8080/"
        },
        "outputId": "c1230b2b-da30-4531-b85a-dab25be3e66e"
      },
      "outputs": [
        {
          "output_type": "stream",
          "name": "stdout",
          "text": [
            "--2023-09-14 14:33:56--  https://osf.io/ukvr2/download\n",
            "Resolving osf.io (osf.io)... 35.190.84.173\n",
            "Connecting to osf.io (osf.io)|35.190.84.173|:443... connected.\n",
            "HTTP request sent, awaiting response... 302 FOUND\n",
            "Location: https://files.de-1.osf.io/v1/resources/n2aym/providers/osfstorage/61a9e7b80db6590527834b7c?action=download&direct&version=15 [following]\n",
            "--2023-09-14 14:33:57--  https://files.de-1.osf.io/v1/resources/n2aym/providers/osfstorage/61a9e7b80db6590527834b7c?action=download&direct&version=15\n",
            "Resolving files.de-1.osf.io (files.de-1.osf.io)... 35.186.249.111\n",
            "Connecting to files.de-1.osf.io (files.de-1.osf.io)|35.186.249.111|:443... connected.\n",
            "HTTP request sent, awaiting response... 200 OK\n",
            "Length: 3303 (3.2K) [application/octet-stream]\n",
            "Saving to: ‘tools_ED.py’\n",
            "\n",
            "tools_ED.py         100%[===================>]   3.23K  --.-KB/s    in 0s      \n",
            "\n",
            "2023-09-14 14:33:58 (27.5 MB/s) - ‘tools_ED.py’ saved [3303/3303]\n",
            "\n",
            "--2023-09-14 14:33:58--  https://perso.telecom-paristech.fr/dalsasso/TPSAR/mvalab.py\n",
            "Resolving perso.telecom-paristech.fr (perso.telecom-paristech.fr)... 137.194.22.227, 2a04:8ec0:0:a::89c2:16e3\n",
            "Connecting to perso.telecom-paristech.fr (perso.telecom-paristech.fr)|137.194.22.227|:443... connected.\n",
            "HTTP request sent, awaiting response... 200 OK\n",
            "Length: 68071 (66K) [text/x-python]\n",
            "Saving to: ‘mvalab.py’\n",
            "\n",
            "mvalab.py           100%[===================>]  66.48K  --.-KB/s    in 0.02s   \n",
            "\n",
            "2023-09-14 14:33:58 (2.86 MB/s) - ‘mvalab.py’ saved [68071/68071]\n",
            "\n"
          ]
        }
      ],
      "source": [
        "!wget -O tools_ED.py https://osf.io/ukvr2/download\n",
        "!wget https://perso.telecom-paristech.fr/dalsasso/TPSAR/mvalab.py\n"
      ]
    },
    {
      "cell_type": "code",
      "execution_count": 2,
      "metadata": {
        "id": "zte31cEAwBtl"
      },
      "outputs": [],
      "source": [
        "from tools_ED import *\n",
        "import scipy.io as sio\n",
        "import mvalab\n",
        "import math\n",
        "import numpy as np\n",
        "import matplotlib.pyplot as plt\n",
        "from scipy import signal\n",
        "from google_drive_downloader import GoogleDriveDownloader as gdd\n",
        "import cmath\n",
        "import copy\n",
        "import scipy\n",
        "\n",
        "plt.rcParams['figure.figsize'] = [8, 8]"
      ]
    },
    {
      "cell_type": "markdown",
      "metadata": {
        "id": "KajnmRre-Q-_"
      },
      "source": [
        "## 1. Visualization of a SAR image\n",
        "In this part, you will work a SAR image acquired over Paris by the TerraSAR-X sensor @DLR. Data are Single-Look Complex (SLC). For the following image, each pixel contains a complex value.\n"
      ]
    },
    {
      "cell_type": "code",
      "execution_count": 3,
      "metadata": {
        "id": "Kgy8qp7d-obJ",
        "colab": {
          "base_uri": "https://localhost:8080/"
        },
        "outputId": "e2951c2d-6aa1-4a37-c3f7-7bc79171b276"
      },
      "outputs": [
        {
          "output_type": "stream",
          "name": "stdout",
          "text": [
            "imz2mat : version janvier 2018.  Fichier à ouvrir : https://perso.telecom-paristech.fr/dalsasso/TPSAR/paris/Eiffel.CXF\n",
            "Nom compatible url\n",
            "Nom compatible url\n",
            "Complex float, Fichiers PC\n",
            "INFO - reading header/dim : https://perso.telecom-paristech.fr/dalsasso/TPSAR/paris/Eiffel.dim\n",
            "lecture .dim OK -> largeur:2048 hauteur:2048 profondeur:1\n",
            "Debug 2 4 2048\n",
            "4 2048 <f\n"
          ]
        }
      ],
      "source": [
        "url='https://perso.telecom-paristech.fr/dalsasso/TPSAR/paris/'\n",
        "\n",
        "image_name='Eiffel.CXF'\n",
        "data_paris=mvalab.imz2mat(url+image_name)\n",
        "ncol=data_paris[1]\n",
        "nlin=data_paris[2]\n",
        "\n",
        "image_array_paris = data_paris[0]"
      ]
    },
    {
      "cell_type": "markdown",
      "metadata": {
        "id": "0P6gcYwAa0qq"
      },
      "source": [
        "Display the phase information. To this purpose, you can use the function `np.angle` which returns values in the range $(-\\pi, +\\pi]$."
      ]
    },
    {
      "cell_type": "code",
      "execution_count": 4,
      "metadata": {
        "id": "rSu8g_JW_ODb",
        "colab": {
          "base_uri": "https://localhost:8080/",
          "height": 1000
        },
        "outputId": "a508c651-b183-4793-f31c-7a1d3a3be957"
      },
      "outputs": [
        {
          "output_type": "error",
          "ename": "TypeError",
          "evalue": "ignored",
          "traceback": [
            "\u001b[0;31m---------------------------------------------------------------------------\u001b[0m",
            "\u001b[0;31mTypeError\u001b[0m                                 Traceback (most recent call last)",
            "\u001b[0;32m<ipython-input-4-352ac0b630ef>\u001b[0m in \u001b[0;36m<cell line: 4>\u001b[0;34m()\u001b[0m\n\u001b[1;32m      2\u001b[0m \u001b[0mphase_image_paris\u001b[0m \u001b[0;34m=\u001b[0m \u001b[0;34m...\u001b[0m \u001b[0;31m# complete\u001b[0m\u001b[0;34m\u001b[0m\u001b[0;34m\u001b[0m\u001b[0m\n\u001b[1;32m      3\u001b[0m \u001b[0mplt\u001b[0m\u001b[0;34m.\u001b[0m\u001b[0mfigure\u001b[0m\u001b[0;34m(\u001b[0m\u001b[0mfigsize\u001b[0m\u001b[0;34m=\u001b[0m\u001b[0;34m(\u001b[0m\u001b[0;36m8\u001b[0m\u001b[0;34m,\u001b[0m\u001b[0;36m8\u001b[0m\u001b[0;34m)\u001b[0m\u001b[0;34m)\u001b[0m\u001b[0;34m\u001b[0m\u001b[0;34m\u001b[0m\u001b[0m\n\u001b[0;32m----> 4\u001b[0;31m \u001b[0mplt\u001b[0m\u001b[0;34m.\u001b[0m\u001b[0mimshow\u001b[0m\u001b[0;34m(\u001b[0m\u001b[0mphase_image_paris\u001b[0m\u001b[0;34m,\u001b[0m \u001b[0mvmin\u001b[0m\u001b[0;34m=\u001b[0m\u001b[0;34m...\u001b[0m\u001b[0;34m,\u001b[0m \u001b[0mvmax\u001b[0m\u001b[0;34m=\u001b[0m\u001b[0;34m...\u001b[0m\u001b[0;34m,\u001b[0m \u001b[0mcmap\u001b[0m\u001b[0;34m=\u001b[0m\u001b[0;34m'gray'\u001b[0m\u001b[0;34m)\u001b[0m \u001b[0;31m# complete\u001b[0m\u001b[0;34m\u001b[0m\u001b[0;34m\u001b[0m\u001b[0m\n\u001b[0m\u001b[1;32m      5\u001b[0m \u001b[0mplt\u001b[0m\u001b[0;34m.\u001b[0m\u001b[0mshow\u001b[0m\u001b[0;34m(\u001b[0m\u001b[0;34m)\u001b[0m\u001b[0;34m\u001b[0m\u001b[0;34m\u001b[0m\u001b[0m\n",
            "\u001b[0;32m/usr/local/lib/python3.10/dist-packages/matplotlib/pyplot.py\u001b[0m in \u001b[0;36mimshow\u001b[0;34m(X, cmap, norm, aspect, interpolation, alpha, vmin, vmax, origin, extent, interpolation_stage, filternorm, filterrad, resample, url, data, **kwargs)\u001b[0m\n\u001b[1;32m   2693\u001b[0m         \u001b[0minterpolation_stage\u001b[0m\u001b[0;34m=\u001b[0m\u001b[0;32mNone\u001b[0m\u001b[0;34m,\u001b[0m \u001b[0mfilternorm\u001b[0m\u001b[0;34m=\u001b[0m\u001b[0;32mTrue\u001b[0m\u001b[0;34m,\u001b[0m \u001b[0mfilterrad\u001b[0m\u001b[0;34m=\u001b[0m\u001b[0;36m4.0\u001b[0m\u001b[0;34m,\u001b[0m\u001b[0;34m\u001b[0m\u001b[0;34m\u001b[0m\u001b[0m\n\u001b[1;32m   2694\u001b[0m         resample=None, url=None, data=None, **kwargs):\n\u001b[0;32m-> 2695\u001b[0;31m     __ret = gca().imshow(\n\u001b[0m\u001b[1;32m   2696\u001b[0m         \u001b[0mX\u001b[0m\u001b[0;34m,\u001b[0m \u001b[0mcmap\u001b[0m\u001b[0;34m=\u001b[0m\u001b[0mcmap\u001b[0m\u001b[0;34m,\u001b[0m \u001b[0mnorm\u001b[0m\u001b[0;34m=\u001b[0m\u001b[0mnorm\u001b[0m\u001b[0;34m,\u001b[0m \u001b[0maspect\u001b[0m\u001b[0;34m=\u001b[0m\u001b[0maspect\u001b[0m\u001b[0;34m,\u001b[0m\u001b[0;34m\u001b[0m\u001b[0;34m\u001b[0m\u001b[0m\n\u001b[1;32m   2697\u001b[0m         \u001b[0minterpolation\u001b[0m\u001b[0;34m=\u001b[0m\u001b[0minterpolation\u001b[0m\u001b[0;34m,\u001b[0m \u001b[0malpha\u001b[0m\u001b[0;34m=\u001b[0m\u001b[0malpha\u001b[0m\u001b[0;34m,\u001b[0m \u001b[0mvmin\u001b[0m\u001b[0;34m=\u001b[0m\u001b[0mvmin\u001b[0m\u001b[0;34m,\u001b[0m\u001b[0;34m\u001b[0m\u001b[0;34m\u001b[0m\u001b[0m\n",
            "\u001b[0;32m/usr/local/lib/python3.10/dist-packages/matplotlib/__init__.py\u001b[0m in \u001b[0;36minner\u001b[0;34m(ax, data, *args, **kwargs)\u001b[0m\n\u001b[1;32m   1440\u001b[0m     \u001b[0;32mdef\u001b[0m \u001b[0minner\u001b[0m\u001b[0;34m(\u001b[0m\u001b[0max\u001b[0m\u001b[0;34m,\u001b[0m \u001b[0;34m*\u001b[0m\u001b[0margs\u001b[0m\u001b[0;34m,\u001b[0m \u001b[0mdata\u001b[0m\u001b[0;34m=\u001b[0m\u001b[0;32mNone\u001b[0m\u001b[0;34m,\u001b[0m \u001b[0;34m**\u001b[0m\u001b[0mkwargs\u001b[0m\u001b[0;34m)\u001b[0m\u001b[0;34m:\u001b[0m\u001b[0;34m\u001b[0m\u001b[0;34m\u001b[0m\u001b[0m\n\u001b[1;32m   1441\u001b[0m         \u001b[0;32mif\u001b[0m \u001b[0mdata\u001b[0m \u001b[0;32mis\u001b[0m \u001b[0;32mNone\u001b[0m\u001b[0;34m:\u001b[0m\u001b[0;34m\u001b[0m\u001b[0;34m\u001b[0m\u001b[0m\n\u001b[0;32m-> 1442\u001b[0;31m             \u001b[0;32mreturn\u001b[0m \u001b[0mfunc\u001b[0m\u001b[0;34m(\u001b[0m\u001b[0max\u001b[0m\u001b[0;34m,\u001b[0m \u001b[0;34m*\u001b[0m\u001b[0mmap\u001b[0m\u001b[0;34m(\u001b[0m\u001b[0msanitize_sequence\u001b[0m\u001b[0;34m,\u001b[0m \u001b[0margs\u001b[0m\u001b[0;34m)\u001b[0m\u001b[0;34m,\u001b[0m \u001b[0;34m**\u001b[0m\u001b[0mkwargs\u001b[0m\u001b[0;34m)\u001b[0m\u001b[0;34m\u001b[0m\u001b[0;34m\u001b[0m\u001b[0m\n\u001b[0m\u001b[1;32m   1443\u001b[0m \u001b[0;34m\u001b[0m\u001b[0m\n\u001b[1;32m   1444\u001b[0m         \u001b[0mbound\u001b[0m \u001b[0;34m=\u001b[0m \u001b[0mnew_sig\u001b[0m\u001b[0;34m.\u001b[0m\u001b[0mbind\u001b[0m\u001b[0;34m(\u001b[0m\u001b[0max\u001b[0m\u001b[0;34m,\u001b[0m \u001b[0;34m*\u001b[0m\u001b[0margs\u001b[0m\u001b[0;34m,\u001b[0m \u001b[0;34m**\u001b[0m\u001b[0mkwargs\u001b[0m\u001b[0;34m)\u001b[0m\u001b[0;34m\u001b[0m\u001b[0;34m\u001b[0m\u001b[0m\n",
            "\u001b[0;32m/usr/local/lib/python3.10/dist-packages/matplotlib/axes/_axes.py\u001b[0m in \u001b[0;36mimshow\u001b[0;34m(self, X, cmap, norm, aspect, interpolation, alpha, vmin, vmax, origin, extent, interpolation_stage, filternorm, filterrad, resample, url, **kwargs)\u001b[0m\n\u001b[1;32m   5663\u001b[0m                               **kwargs)\n\u001b[1;32m   5664\u001b[0m \u001b[0;34m\u001b[0m\u001b[0m\n\u001b[0;32m-> 5665\u001b[0;31m         \u001b[0mim\u001b[0m\u001b[0;34m.\u001b[0m\u001b[0mset_data\u001b[0m\u001b[0;34m(\u001b[0m\u001b[0mX\u001b[0m\u001b[0;34m)\u001b[0m\u001b[0;34m\u001b[0m\u001b[0;34m\u001b[0m\u001b[0m\n\u001b[0m\u001b[1;32m   5666\u001b[0m         \u001b[0mim\u001b[0m\u001b[0;34m.\u001b[0m\u001b[0mset_alpha\u001b[0m\u001b[0;34m(\u001b[0m\u001b[0malpha\u001b[0m\u001b[0;34m)\u001b[0m\u001b[0;34m\u001b[0m\u001b[0;34m\u001b[0m\u001b[0m\n\u001b[1;32m   5667\u001b[0m         \u001b[0;32mif\u001b[0m \u001b[0mim\u001b[0m\u001b[0;34m.\u001b[0m\u001b[0mget_clip_path\u001b[0m\u001b[0;34m(\u001b[0m\u001b[0;34m)\u001b[0m \u001b[0;32mis\u001b[0m \u001b[0;32mNone\u001b[0m\u001b[0;34m:\u001b[0m\u001b[0;34m\u001b[0m\u001b[0;34m\u001b[0m\u001b[0m\n",
            "\u001b[0;32m/usr/local/lib/python3.10/dist-packages/matplotlib/image.py\u001b[0m in \u001b[0;36mset_data\u001b[0;34m(self, A)\u001b[0m\n\u001b[1;32m    699\u001b[0m         if (self._A.dtype != np.uint8 and\n\u001b[1;32m    700\u001b[0m                 not np.can_cast(self._A.dtype, float, \"same_kind\")):\n\u001b[0;32m--> 701\u001b[0;31m             raise TypeError(\"Image data of dtype {} cannot be converted to \"\n\u001b[0m\u001b[1;32m    702\u001b[0m                             \"float\".format(self._A.dtype))\n\u001b[1;32m    703\u001b[0m \u001b[0;34m\u001b[0m\u001b[0m\n",
            "\u001b[0;31mTypeError\u001b[0m: Image data of dtype object cannot be converted to float"
          ]
        },
        {
          "output_type": "display_data",
          "data": {
            "text/plain": [
              "<Figure size 800x800 with 1 Axes>"
            ],
            "image/png": "[encoded data removed]"
          },
          "metadata": {}
        }
      ],
      "source": [
        "# visualization of the phase\n",
        "phase_image_paris = ... # complete\n",
        "plt.figure(figsize=(8,8))\n",
        "plt.imshow(phase_image_paris, vmin=..., vmax=..., cmap='gray') # complete\n",
        "plt.show()"
      ]
    },
    {
      "cell_type": "markdown",
      "metadata": {
        "id": "u3sHsUdabhNT"
      },
      "source": [
        "Display the amplitude information using `matplotlib`. What can you observe? Plot the histogram to undestand why the displayed image looks like that.\n",
        "\n",
        "**N.B.**: An amplitude image is given by the modulus of the electro-magnetic field and intensity is the square of the amplitude (proportional to the signal power)."
      ]
    },
    {
      "cell_type": "code",
      "execution_count": null,
      "metadata": {
        "id": "yBZhHWLH-8Kp"
      },
      "outputs": [],
      "source": [
        "# naive visualization of amplitude with matplotlib\n",
        "amplitude_image_paris = ... # complete\n",
        "plt.figure(figsize=(8,8))\n",
        "plt.imshow(amplitude_image_paris, cmap='gray')\n",
        "plt.show()"
      ]
    },
    {
      "cell_type": "code",
      "execution_count": null,
      "metadata": {
        "id": "5iL5yNG9_zaC"
      },
      "outputs": [],
      "source": [
        "plt.figure()\n",
        "plt.hist(np.ravel(amplitude_image_paris),bins='auto',density=True,range=(0,5000))\n",
        "plt.show()\n",
        "\n",
        "print('Range of a SAR image: ['+str(np.min(amplitude_image_paris))+'; '+str(np.max(amplitude_image_paris))+']')"
      ]
    },
    {
      "cell_type": "markdown",
      "metadata": {
        "id": "4WzEDekQcE3U"
      },
      "source": [
        "Implement a tool to visualise the amplitude information of a SAR image based on its statistics. By convention, the relevant information **for visualization purposes** (not for processing purposes) is contained within the range $[0; \\mu+3\\times\\sigma ]$"
      ]
    },
    {
      "cell_type": "code",
      "execution_count": null,
      "metadata": {
        "id": "A6rVZAPG_lJA"
      },
      "outputs": [],
      "source": [
        "def showsar(amplitude_data):\n",
        "  threshold = ... # complete\n",
        "  plt.figure()\n",
        "  plt.imshow(amplitude_data, vmax=threshold, cmap='gray')\n",
        "  plt.show()\n",
        "\n",
        "showsar(amplitude_image_paris)"
      ]
    },
    {
      "cell_type": "markdown",
      "metadata": {
        "id": "rF_LGgGeBdzt"
      },
      "source": [
        "What is the position of the sensor relatively to the scene?\n",
        "\n",
        "<img src=\"http://www.clker.com/cliparts/5/7/d/b/1195442352382851478zeimusu_Warning_sign.svg?display=inline-block\" alt=\"drawing\" width=\"20\"/>Image providers produce images where the sensor is always on the **...**-side of the image. When at high-resolution (equal or less than 1 meter), the side-looking geometry of SAR images introduces visible distortions. Thus, flipping images to do data-augmentation might not be desirable."
      ]
    },
    {
      "cell_type": "code",
      "execution_count": null,
      "metadata": {
        "id": "qRzDsC6Iifla"
      },
      "outputs": [],
      "source": [
        "def showsar(amplitude_data,size_fig=8,title='',threshold=None):\n",
        "  if threshold == None:\n",
        "    threshold = ... # complete\n",
        "  elif threshold == 0:\n",
        "    threshold = np.max(amplitude_data)\n",
        "  else:\n",
        "    threshold = threshold\n",
        "\n",
        "  title = title + ' : mean = '+str(np.mean(amplitude_data)) + ' std = '+str(np.std(amplitude_data))\n",
        "\n",
        "  plt.figure(figsize=(size_fig,size_fig))\n",
        "  plt.imshow(amplitude_data, vmax=threshold, cmap='gray')\n",
        "  plt.title(title)\n",
        "  plt.show()"
      ]
    },
    {
      "cell_type": "code",
      "execution_count": null,
      "metadata": {
        "id": "N24NJGRukJS_"
      },
      "outputs": [],
      "source": [
        "showsar(amplitude_image_paris,threshold=0)\n",
        "showsar(amplitude_image_paris)\n"
      ]
    },
    {
      "cell_type": "markdown",
      "metadata": {
        "id": "gOkcyhnuFusM"
      },
      "source": [
        "# 2. Single look data distributions\n",
        "In this part, we will use an SLC (Single Look Complex) image $z=a+jb$ and analyze its pdf.\n",
        "The image has been acquired by the Sentinel-1 sensor over the Lelystad zone (very flat area with fields crops).\n",
        "Vizualize the amplitude image and interpret it. You may want to have a look to an [optical image](https://goo.gl/maps/JJcYcRjMKj1p6uqW8) of the area.\n"
      ]
    },
    {
      "cell_type": "code",
      "execution_count": null,
      "metadata": {
        "id": "q_Ars942F2kS"
      },
      "outputs": [],
      "source": [
        "pageweb=\"https://perso.telecom-paristech.fr/dalsasso/TPSAR/pilelely/\"\n",
        "image='Lely.CXF'\n",
        "im_slc_senti_lely_liste=mvalab.imz2mat(pageweb+image);\n",
        "im_slc_senti_lely = im_slc_senti_lely_liste[0]\n",
        "ncol=im_slc_senti_lely_liste[1]\n",
        "nlin=im_slc_senti_lely_liste[2]\n",
        "\n",
        "showsar(np.abs(im_slc_senti_lely))"
      ]
    },
    {
      "cell_type": "markdown",
      "metadata": {
        "id": "XH9lLO3TGLRA"
      },
      "source": [
        "## 2.1 Data distributions for an homogeneous area\n",
        "- Select a **physically** homogeneous area (you can zoom and see coordinates as you move the arrow on the image) and compute the distribution of the real part, imaginary part, phase, intensity and amplitude. Some useful functions are:\n",
        "  - `np.angle`\n",
        "  - `np.real`\n",
        "  - `np.imag`\n",
        "\n",
        "- Compute the histograms for these variables and draw on the histogram the theoretical curve by computing the mean value $\\mu$ and the standard deviation $\\sigma$ with the function `scipy.stats.[distribution].fit` by replacing `[distribution]` with the [expected pdf](https://docs.scipy.org/doc/scipy/reference/stats.html)\n",
        "- Rembember:\n",
        "  - $z = a+jb = Ae^\\phi$: single-look complex SAR image\n",
        "  - $a$: real part\n",
        "  - $b$: imaginary part\n",
        "  - $A=|z|=\\sqrt{a^2+b^2}$: amplitude information\n",
        "  - $\\phi=\\arctan(b/a)$: phase information\n",
        "  - $I=A^2=|z|^2=a^2+b^2$: intensity information\n",
        "\n",
        "<img src=\"http://www.clker.com/cliparts/5/7/d/b/1195442352382851478zeimusu_Warning_sign.svg?display=inline-block\" alt=\"drawing\" width=\"20\"/> The Goodman model is valid only on homogeneous area. That is why it is important to select pixels sharing the same distribution (with the same underlying reflectivity).\n",
        "$$\n",
        "I = S \\times R\n",
        "$$\n",
        "with $S$ being the speckle component and $R$ being the underlying reflectivity of the scene."
      ]
    },
    {
      "cell_type": "code",
      "execution_count": null,
      "metadata": {
        "id": "p4I1iDjMGKXd"
      },
      "outputs": [],
      "source": [
        "# Select a crop of the image (around 200 by 200 pixels)\n",
        "crop_slc = im_slc_senti_lely[900:,0:250]\n",
        "mvalab.visusar(crop_slc)\n",
        "\n",
        "# Compute amplitude, intensity, phase, real and imaginary part\n",
        "amp_senti_lely = ... # complete\n",
        "int_senti_lely = ... # complete\n",
        "ph_senti_lely = ... # complete\n",
        "real_senti_lely = ... # complete\n",
        "imag_senti_lely = ... # complete"
      ]
    },
    {
      "cell_type": "code",
      "execution_count": null,
      "metadata": {
        "id": "ueoO-YtPGKiw"
      },
      "outputs": [],
      "source": [
        "# Plot the histograms and verify they match the theoretical distribution\n",
        "\n",
        "# fitting of the distributions\n",
        "# use the following ones :\n",
        "# Gaussian pdf : scipy.stats.norm\n",
        "# Nakagami pdf : scipy.stats.nakagami\n",
        "# Exponential pdf : scipy.stats.expon\n",
        "\n",
        "#example for real part of the data\n",
        "plt.figure()\n",
        "_, bins, _ = plt.hist(real_senti_lely.ravel(),bins='auto',density=True,range=[-100,100])  # Gaussian distribution\n",
        "mu, sigma = scipy.stats.norm.fit(real_senti_lely)\n",
        "best_fit_line = scipy.stats.norm.pdf(bins, mu, sigma)\n",
        "plt.plot(bins, best_fit_line)\n",
        "plt.title('histogram of real part')\n",
        "plt.show()\n",
        "\n",
        "#complete for imaginary part: Gaussian distribution\n",
        "plt.figure()\n",
        "_, bins, _ = plt.hist(imag_senti_lely.ravel(),bins='auto',density=True,range=[-100,100])  # Gaussian distribution\n",
        "mu, sigma = ... # complete\n",
        "best_fit_line = scipy.stats.....pdf(bins, mu, sigma) # complete\n",
        "plt.plot(bins, best_fit_line)\n",
        "plt.title('histogram of imaginary part')\n",
        "plt.show()\n",
        "\n",
        "\n",
        "#complete for phase data: Uniform distribution\n",
        "plt.figure()\n",
        "plt.hist(ph_senti_lely.ravel(),bins='auto',density=True,range=[-np.pi,np.pi])\n",
        "plt.title('histogram of phase')\n",
        "plt.show()\n",
        "\n",
        "\n",
        "#complete for intensity data: Exponential (Gamma) distribution\n",
        "plt.figure()\n",
        "_, bins, _ = plt.hist(int_senti_lely.ravel(),bins='auto',density=True,range=[0,10000])  # Exponential distribution\n",
        "mu, sigma = ... # complete\n",
        "best_fit_line = scipy.stats.....pdf(bins, mu, sigma) # complete\n",
        "plt.plot(bins, best_fit_line)\n",
        "plt.title('histogram of intensity')\n",
        "plt.show()\n",
        "\n",
        "#complete for amplitude data: Nakagami-Rayleigh distribution\n",
        "plt.figure()\n",
        "_, bins, _ = plt.hist(amp_senti_lely.ravel(),bins='auto',density=True,range=[0,300])  # Nakagami distribution\n",
        "mu, _, sigma = ... # complete\n",
        "best_fit_line = scipy.stats.....pdf(bins, mu, 0, sigma) # complete\n",
        "plt.plot(bins, best_fit_line)\n",
        "plt.title('histogram of amplitude')\n",
        "plt.show()"
      ]
    },
    {
      "cell_type": "markdown",
      "metadata": {
        "id": "n8_TTK1pBdzu"
      },
      "source": [
        "<img src=\"http://www.clker.com/cliparts/5/7/d/b/1195442352382851478zeimusu_Warning_sign.svg?display=inline-block\" alt=\"drawing\" width=\"20\"/>\n",
        "SAR images are corrupted by speckle and their statistical properties are known. Some data-augmentation techniques used in the computer vision are thus not applicable to SAR data, as they would modify their statistical distributions (you want your neural network to learn from the true distributions)."
      ]
    },
    {
      "cell_type": "markdown",
      "metadata": {
        "id": "6exjnScQQWac"
      },
      "source": [
        "## 2.2 Local coefficient of variation\n",
        "\n",
        "The coefficient of variation $\\gamma=\\frac{\\sigma}{\\mu}$ (standard deviation normalized by the mean) is an indication of the local homogeneity of the scene.\n",
        "It can be computed locally around each pixel using a moving average window.\n",
        "\n",
        "You can observe which structures of the image are highlighted with the coefficient of variation and change the window size to see its influence.\n",
        "\n",
        "<img src=\"http://www.clker.com/cliparts/5/7/d/b/1195442352382851478zeimusu_Warning_sign.svg?display=inline-block\" alt=\"drawing\" width=\"20\"/>Then, take a look at the local standard deviation. You will see that this quantitity is not adapted to evaluate the homogeneity of the scene, as it is often done in standard computer vision approaches. Indeed, it is proportional to the reflectivity of the scene. Working with **log-transformed** data allows to stabilize the variance (i.e. the variance becomes homogeneous over the entire image)"
      ]
    },
    {
      "cell_type": "code",
      "execution_count": null,
      "metadata": {
        "id": "r5PsI6hFQVrc"
      },
      "outputs": [],
      "source": [
        "# take the intensity\n",
        "ima_int = np.square(np.abs(im_slc_senti_lely))\n",
        "showsar(np.sqrt(ima_int))\n",
        "\n",
        "# create the moving average window\n",
        "size_window = 7\n",
        "local_window = ... # complete\n",
        "\n",
        "# compute the mean image\n",
        "ima_int_mean = signal.convolve2d(ima_int, local_window, mode='same')\n",
        "\n",
        "# compute the variance image (var{I} = E{I^2} - E{I}^2)\n",
        "ima_int_square = np.multiply(ima_int,ima_int) # I^2\n",
        "ima_int_mean_square = signal.convolve2d(ima_int_square, local_window, mode='same') # E{I^2}\n",
        "ima_variance = ima_int_mean_square - np.multiply(ima_int_mean,ima_int_mean)\n",
        "\n",
        "# compute coefficient of variation\n",
        "ima_coeff_var = ... # complete\n",
        "showsar(ima_coeff_var)\n",
        "\n",
        "showsar(np.sqrt(np.sqrt(ima_variance)))"
      ]
    },
    {
      "cell_type": "markdown",
      "metadata": {
        "id": "PYSumFA0RsHK"
      },
      "source": [
        "# 3. Image despeckling: from pixel-selection to deep learning\n",
        "\n",
        "You will work in this part with a TerraSAR-X image acquired in *stripmap* mode over the area of Sendai. The image is Single-Look Complex. Each pixel has two channels: the first one contains the real part, the second one contains the imaginary part."
      ]
    },
    {
      "cell_type": "code",
      "execution_count": null,
      "metadata": {
        "id": "_oT2wWLWS9EP"
      },
      "outputs": [],
      "source": [
        "!wget -O TSX_data.npy https://osf.io/wfmrv/download"
      ]
    },
    {
      "cell_type": "code",
      "execution_count": null,
      "metadata": {
        "id": "3ROGlJnDRxVU"
      },
      "outputs": [],
      "source": [
        "TSX_SLC = np.load('TSX_data.npy')\n",
        "TSX_int = TSX_SLC[:,:,0]**2+TSX_SLC[:,:,1]**2\n",
        "TSX_abs = np.sqrt(TSX_int)\n",
        "showsar((TSX_abs))\n"
      ]
    },
    {
      "cell_type": "markdown",
      "metadata": {
        "id": "meA7tweqZSvx"
      },
      "source": [
        "## 3.1 Mean filter\n",
        "First, we will implement the simplest speckle reduction algorithm: the mean filter. You can rely of the previously defined moving average window or create a new one and change the size to find a tradeoff between speckle reduction and preservation of the resolution.\n",
        "\n",
        "**NB:** averaging pixels in intensity corresponds to the maximum likelihood estimator of the underlying reflectivity"
      ]
    },
    {
      "cell_type": "code",
      "execution_count": null,
      "metadata": {
        "id": "lt2EFZuxZSFE"
      },
      "outputs": [],
      "source": [
        "# compute the mean image\n",
        "TSX_int_mean = signal.convolve2d(TSX_int, local_window, mode='same')\n",
        "showsar(np.sqrt(TSX_int_mean))"
      ]
    },
    {
      "cell_type": "markdown",
      "metadata": {
        "id": "slSQYzKnZgsG"
      },
      "source": [
        "## 3.2 Lee filter\n",
        "\n",
        "The Lee filter relies of the computation of the local coefficient of variation to find a compromise between filtering and preservation of thin structures.\n",
        "\n",
        "The principle of the filter is to combine the pixel value $I_s$ (intensity value of pixel $s$) and the local mean $\\hat{\\mu}_{s}$ depending on the local coefficient of variation $\\hat{\\gamma}_s$ with the following formula :\n",
        "$$\n",
        "  \\hat{I}_s= \\hat{\\mu}_{s}+k_s (I_s-\\hat{\\mu}_{s})\n",
        "$$\n",
        "\n",
        "and\n",
        "$$\n",
        "  k_s=1- \\frac{\\gamma_{Sp}^2}{\\hat{\\gamma}_s^2}\n",
        "$$\n",
        "\n",
        "$\\gamma_{Sp}$ is the theoretical value of the coefficient of variation for a pure speckle ($\\gamma_{Sp}=\\frac{1}{\\sqrt{L}}$ for a L-look intensity image). For an SLC image, $L=1$."
      ]
    },
    {
      "cell_type": "code",
      "execution_count": null,
      "metadata": {
        "id": "PprIsEerTvgP"
      },
      "outputs": [],
      "source": [
        "# compute the variance image (var{I} = E{I^2} - E{I}^2)\n",
        "TSX_int_square = np.multiply(TSX_int,TSX_int) # I^2\n",
        "TSX_int_mean_square = signal.convolve2d(TSX_int_square, local_window, mode='same') # E{I^2}\n",
        "TSX_variance = TSX_int_mean_square - np.multiply(TSX_int_mean,TSX_int_mean)\n",
        "\n",
        "# compute coefficient of variation\n",
        "TSX_coeff_var = np.divide(np.sqrt(TSX_variance),TSX_int_mean+0.001)\n",
        "showsar(TSX_coeff_var)\n",
        "\n",
        "showsar(np.sqrt(TSX_variance))"
      ]
    },
    {
      "cell_type": "code",
      "execution_count": null,
      "metadata": {
        "id": "wfFv-oBIRwhV"
      },
      "outputs": [],
      "source": [
        "# compute ks, by taking ima_coeff_var previously computed\n",
        "ks = ... # complete\n",
        "\n",
        "# force k to have values comprised in the range [0,1]\n",
        "ks= np.clip(ks,0,1)\n",
        "showsar(ks)\n",
        "\n",
        "# filter the image\n",
        "TSX_lee_filtered = ... # complete\n",
        "showsar(np.sqrt(TSX_lee_filtered),title='Lee filter')\n",
        "showsar(np.sqrt(TSX_int_mean),title='Mean filter')\n",
        "showsar(np.sqrt(TSX_int),title='Original image')"
      ]
    },
    {
      "cell_type": "markdown",
      "metadata": {
        "id": "9k7-ngX7Cv_u"
      },
      "source": [
        "## 3.3 Suppress speckle from TerraSAR-X images using MERLIN\n",
        "In this part, we will apply despeckling with MERLIN algorithm:\n",
        "```\n",
        "E. Dalsasso, L. Denis and F. Tupin,\n",
        "\"As if by magic: self-supervised training of deep despeckling networks with MERLIN.\"\n",
        "in IEEE Transactions on Geoscience and Remote Sensing, 2021, vol. 60, p. 1-13.\n",
        "```\n",
        "https://arxiv.org/abs/2110.13148\n",
        "\n",
        "![summary_MERLIN](https://gitlab.telecom-paris.fr/ring/MERLIN/-/raw/master/img/MERLIN_framework.png)\n"
      ]
    },
    {
      "cell_type": "code",
      "execution_count": null,
      "metadata": {
        "id": "IUvwAuEzCtzO"
      },
      "outputs": [],
      "source": [
        "!pip install deepdespeckling"
      ]
    },
    {
      "cell_type": "code",
      "execution_count": null,
      "metadata": {
        "id": "QPYEz-7cF4uV"
      },
      "outputs": [],
      "source": [
        "!mkdir ./restored_TSX"
      ]
    },
    {
      "cell_type": "code",
      "execution_count": null,
      "metadata": {
        "id": "Qgo3BiA1GJ8y"
      },
      "outputs": [],
      "source": [
        "from deepdespeckling.merlin.test.stripmap import despeckle_stripmap\n",
        "destination_directory = './restored_TSX/'\n",
        "despeckle_stripmap('./TSX_data.npy',destination_directory,stride_size=64)"
      ]
    },
    {
      "cell_type": "markdown",
      "metadata": {
        "id": "idfOaw2CLBsT"
      },
      "source": [
        "Results are stored in `./restored_TSX` directory. Numpy files contain the **amplitude** information. You can see the images in `.png` format by double-clicking on them."
      ]
    },
    {
      "cell_type": "code",
      "execution_count": null,
      "metadata": {
        "id": "-MCGhqeeHtth"
      },
      "outputs": [],
      "source": [
        "despeckled_TSX = np.load('/content/restored_TSX/denoised_TSX_data.npy')\n",
        "showsar(despeckled_TSX)"
      ]
    },
    {
      "cell_type": "markdown",
      "metadata": {
        "id": "uKKbweQoWhiM"
      },
      "source": [
        "## 3.4 Quantitative and qualitative evaluation of despeckling results\n",
        "\n",
        "When working with real SAR acquisitions, the groundtruth information is lacking. Thus, assessing the performances of a restoration algorithm is challenging. To this purpose, the visual interpretation of the results is fundamental and can be assisted by some proxies."
      ]
    },
    {
      "cell_type": "markdown",
      "metadata": {
        "id": "oEr_JEOaikU5"
      },
      "source": [
        "Computation of the **ENL** (Equivalent Number of Looks), defined as:\n",
        "$$\n",
        "\\text{ENL} = \\frac{\\mu^2}{\\sigma^2}\n",
        "$$\n",
        "The ENL has to be computed over a **homogeneous** area on **intensity data**.\n",
        "\n",
        "Note that $\\text{ENL}=1/\\gamma^2$: thus, it favors algorithms that tend to oversmoothing"
      ]
    },
    {
      "cell_type": "code",
      "execution_count": null,
      "metadata": {
        "id": "KH5Mz_1LWkDv"
      },
      "outputs": [],
      "source": [
        "x1 = 450\n",
        "x2 = 512\n",
        "y1 = 480\n",
        "y2 = 512\n",
        "\n",
        "showsar(despeckled_TSX[y1:y2,x1:x2])\n",
        "\n",
        "ENL_original = ... # complete\n",
        "print(ENL_original)\n",
        "ENL_MERLIN = ... # complete\n",
        "print(ENL_MERLIN)\n",
        "ENL_Lee = ... # complete\n",
        "print(ENL_Lee)"
      ]
    },
    {
      "cell_type": "markdown",
      "metadata": {
        "id": "LnYOx9Qij3Cu"
      },
      "source": [
        "Method noise: it consist in computing the **residual noise** defined as the ratio (in **intensity**) between the original image and the restored image (the estimated reflectivity):\n",
        "$$\n",
        "\\hat{S}=\\frac{I}{\\hat{R}}\n",
        "$$\n",
        "In case of perfect despeckling, we expect to end up with pure speckle. It follows that:\n",
        "$$\n",
        "\\mathbb{E}[\\hat{S}]\\approx1 \\\\\n",
        "\\text{Var}[\\hat{S}]\\approx1\n",
        "$$\n",
        "The closest they are to 1, the better the result."
      ]
    },
    {
      "cell_type": "code",
      "execution_count": null,
      "metadata": {
        "id": "JTI4jmprXTB-"
      },
      "outputs": [],
      "source": [
        "res_noise_lee = ... # complete\n",
        "showsar(res_noise_lee)\n",
        "mean_lee = np.mean(res_noise_lee[y1:y2,x1:x2])\n",
        "var_lee = np.var(res_noise_lee[y1:y2,x1:x2])\n",
        "print('LEE FILTER: mean = '+str(mean_lee)+' and var = '+str(var_lee))\n",
        "\n",
        "res_noise_deep = ... # complete\n",
        "showsar(res_noise_deep)\n",
        "mean_deep = np.mean(res_noise_deep[y1:y2,x1:x2])\n",
        "var_deep = np.var(res_noise_deep[y1:y2,x1:x2])\n",
        "print('MERLIN: mean = '+str(mean_deep)+' and var = '+str(var_deep))"
      ]
    },
    {
      "cell_type": "markdown",
      "metadata": {
        "id": "7m9LXhMRlAsN"
      },
      "source": [
        "Finally, we can plot the histogram of the residual noise and compare it with the theoretical distribution of pure speckle."
      ]
    },
    {
      "cell_type": "code",
      "execution_count": null,
      "metadata": {
        "id": "nP_v60MMXpSM"
      },
      "outputs": [],
      "source": [
        "plt.figure()\n",
        "_, bins, _ = plt.hist(res_noise_lee.ravel(),bins='auto',density=True,range=[0,5])\n",
        "best_fit_line = scipy.stats.expon.pdf(bins, 0, 1)\n",
        "plt.plot(bins, best_fit_line)\n",
        "plt.title('Lee')\n",
        "plt.show()\n",
        "\n",
        "plt.figure()\n",
        "_, bins, _ = plt.hist(res_noise_deep.ravel(),bins='auto',density=True,range=[0,5])\n",
        "best_fit_line = scipy.stats.expon.pdf(bins, 0, 1)\n",
        "plt.plot(bins, best_fit_line)\n",
        "plt.title('MERLIN')\n",
        "plt.show()"
      ]
    },
    {
      "cell_type": "code",
      "execution_count": null,
      "metadata": {
        "id": "4muac2rllQUL"
      },
      "outputs": [],
      "source": []
    }
  ],
  "metadata": {
    "accelerator": "GPU",
    "colab": {
      "gpuType": "T4",
      "provenance": [],
      "include_colab_link": true
    },
    "kernelspec": {
      "display_name": "Python 3",
      "name": "python3"
    },
    "language_info": {
      "codemirror_mode": {
        "name": "ipython",
        "version": 3
      },
      "file_extension": ".py",
      "mimetype": "text/x-python",
      "name": "python",
      "nbconvert_exporter": "python",
      "pygments_lexer": "ipython3",
      "version": "3.7.13"
    }
  },
  "nbformat": 4,
  "nbformat_minor": 0
}